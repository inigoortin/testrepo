{
 "cells": [
  {
   "cell_type": "markdown",
   "id": "c359e4fc-10db-40a2-a3d9-9b1e81baa86c",
   "metadata": {},
   "source": [
    "Exercise 2: Create markdown cell with title of the notebook\r\n",
    "\r\n",
    "Create a markdown cell with the title Data Science Tools and Ecosystem using H1 style heading.\r\n",
    "Take a screenshot of the markdown cell and name it as 2-title.png (Images can be saved with either the .jpg or .png extension."
   ]
  },
  {
   "cell_type": "markdown",
   "id": "3e84e232-f80f-4a66-8d59-77ac2c5f8de6",
   "metadata": {},
   "source": [
    "# Data Science Tools and Ecosystem"
   ]
  },
  {
   "cell_type": "markdown",
   "id": "08f80ab3-a640-453f-b91e-be7eecfb7295",
   "metadata": {},
   "source": [
    "Exercise 3 - Create a markdown cell for an introduction\r\n",
    "\r\n",
    "Write an introductory sentence about the notebook such as the follows:\r\n",
    "\r\n",
    "In this notebook, Data Science Tools and Ecosystem are summarized.\r\n",
    "Take a screenshot of the markdown cell and name it as 3-intro.png (Images can be saved with either the .jpg or .png extension.)"
   ]
  },
  {
   "cell_type": "markdown",
   "id": "aa2c9b75-a412-471f-b542-f788d81e0f41",
   "metadata": {},
   "source": [
    "In this notebook, Data Science Tools and Ecosystem are summarized."
   ]
  },
  {
   "cell_type": "markdown",
   "id": "18c3e830-1a3a-4749-9e80-30cee5bcaa4e",
   "metadata": {},
   "source": [
    "Exercise 4 - Create a markdown cell to list data science languages\r\n",
    "\r\n",
    "Start the cell with an overview line such as:\r\n",
    "\r\n",
    "Some of the popular languages that Data Scientists use are:\r\n",
    "Then create an ordered list (i.e. numbered) listing 3 (or more) commonly used languages for data science.\r\n",
    "Take a screenshot of the markdown cell and name it as 4-dslanguages.png (Images can be saved with either the .jpg or .png extension.)"
   ]
  },
  {
   "cell_type": "markdown",
   "id": "a4bc7793-585b-481f-b0d3-70106ff89dd2",
   "metadata": {},
   "source": [
    "Some of the popular languages that Data Scientists use are:\n",
    "1. Python\n",
    "2. R\n",
    "3. SQL\n",
    "4. Java"
   ]
  },
  {
   "cell_type": "markdown",
   "id": "4e4dcbf6-02ba-4dad-bb5c-b80e59aaf475",
   "metadata": {},
   "source": [
    "Exercise 5 - Create a markdown cell to list data science libraries\r\n",
    "\r\n",
    "Add an overview line to the cell like:\r\n",
    "\r\n",
    "Some of the commonly used libraries used by Data Scientists include:\r\n",
    "Below this line add an ordered list listing 3 (or more) commonly used libraries in data science.\r\n",
    "Take a screenshot of the markdown cell and name it as 5-dslibraries.png (Images can be saved with either the .jpg or .png extension.)\r\n"
   ]
  },
  {
   "cell_type": "markdown",
   "id": "45ca1e36-3955-46b5-95e2-0ffba215ca7e",
   "metadata": {},
   "source": [
    "Some of the commonly used libraries used by Data Scientists include:\n",
    "1. Pandas\n",
    "2. Numpy\n",
    "3. SciPy\n",
    "4. Matplotlib"
   ]
  },
  {
   "cell_type": "markdown",
   "id": "d975ccda-74a6-4f07-b194-9d405044cab3",
   "metadata": {},
   "source": [
    "Exercise 6 - Create a markdown cell with a table of Data Science tools\n",
    "\n",
    "Create a single column table in this cell with the first row containing the header Data Science Tools. The subsequent three rows in the table should indicate three development environment open source tools used in data science.\n",
    "\n",
    "Take a screenshot of the markdown cell and name it as 6-dstools.png (Images can be saved with either the .jpg or .png extension.)\n",
    "Hint: Refer to Lab: Using Markdowns in Jupyter Notebooks to create a table."
   ]
  },
  {
   "cell_type": "markdown",
   "id": "c478f15f-e065-4cdb-b4c8-083ef794bf3b",
   "metadata": {},
   "source": [
    "|Data Science Tools|\n",
    "----\n",
    "Hadoop\n",
    "Spark\n",
    "Orange"
   ]
  },
  {
   "cell_type": "markdown",
   "id": "611df3a1-5901-44e1-8e32-5da0bbdd72d5",
   "metadata": {},
   "source": [
    "Exercise 7 - Create a markdown cell introducing arithmetic expression examples\r\n",
    "\r\n",
    "Add a line in this cell with H3 style heading with text like:\r\n",
    "\r\n",
    "Below are a few examples of evaluating arithmetic expressions in Python.\r\n",
    "Take a screenshot of the markdown cell and name it as 7-introarithmetic.png (Images can be saved with either the .jpg or .png extension.)"
   ]
  },
  {
   "cell_type": "markdown",
   "id": "cd0d1836-5895-4216-9637-3067e9c404ac",
   "metadata": {},
   "source": [
    "### Below are a few examples of evaluating arithmetic expressions in Python"
   ]
  },
  {
   "cell_type": "markdown",
   "id": "8357fb5b-cdc9-45d3-83ff-7f60c1d1f7f1",
   "metadata": {},
   "source": [
    "Exercise 8 - Create a code cell to multiply and add numbers\n",
    "\n",
    "In this code cell evaluate the expression (3*4)+5.\n",
    "Insert a comment line before the expression to explain the operation e.g.  This a simple arithmetic expression to mutiply then add integers.\n",
    "Then execute the cell to ensure the expression returns the expected output of 17.\n",
    "Take a screenshot of the code cell with output and name it as 8-multiplyandaddintegers.png (Images can be saved with either the .jpg or .png extension.)\n"
   ]
  },
  {
   "cell_type": "code",
   "execution_count": 3,
   "id": "51eafc67-063c-49f5-a279-28f571375bfd",
   "metadata": {},
   "outputs": [
    {
     "data": {
      "text/plain": [
       "17"
      ]
     },
     "execution_count": 3,
     "metadata": {},
     "output_type": "execute_result"
    }
   ],
   "source": [
    "# This a simple arithmetic expression to mutiply then add integers\n",
    "(3*4)+5"
   ]
  },
  {
   "cell_type": "markdown",
   "id": "3cca2641-51af-4cfd-8f2b-39e928326741",
   "metadata": {},
   "source": [
    "Exercise 9 - Create a code cell to convert minutes to hours\r\n",
    "\r\n",
    "In this code cell write an expression that converts 200 minutes into hours.\r\n",
    "Insert a comment line before the expression to explain the operation e.g.  This will convert 200 minutes to hours by diving by 60.\r\n",
    "Run the cell to evaluate the expression.\r\n",
    "Take a screenshot of the code cell with output and name it as 9-hourstominutes.png (Images can be saved with either the .jpg or .png extension.)"
   ]
  },
  {
   "cell_type": "code",
   "execution_count": 4,
   "id": "6aaea581-02aa-4335-a5e6-09cffb6a1b07",
   "metadata": {},
   "outputs": [
    {
     "data": {
      "text/plain": [
       "3.3333333333333335"
      ]
     },
     "execution_count": 4,
     "metadata": {},
     "output_type": "execute_result"
    }
   ],
   "source": [
    "# This will convert 200 minutes to hours by diving by 60\n",
    "200/60"
   ]
  },
  {
   "cell_type": "markdown",
   "id": "06dd77b9-08c0-4a5d-9943-0b1bb42dd681",
   "metadata": {},
   "source": [
    "Exercise 10 - Insert a markdown cell to list Objectives\n",
    "\n",
    "Below the introduction cell created in Exercise 3, insert a new markdown cell to list the objectives that this notebook covered (i.e. some of the key takeaways from the course). In this new cell start with an introductory line titled: Objectives: in bold font. Then using an unordered list (bullets) indicate 3 to 5 items covered in this notebook, such as List popular languages for Data Science.\n",
    "Take a screenshot of the markdown cell and name it as 10-objectives.png (Images can be saved with either the .jpg or .png extension.)\n"
   ]
  },
  {
   "cell_type": "markdown",
   "id": "44adeebc-8f85-40f5-a46a-30aaa33f45c2",
   "metadata": {},
   "source": [
    "In this notebook, Data Science Tools and Ecosystem are summarized."
   ]
  },
  {
   "cell_type": "markdown",
   "id": "407d8086-862a-4fc9-8608-4c164c2a028d",
   "metadata": {},
   "source": [
    "**Objectives:**\n",
    "* List popular languages for Data Science\n",
    "* Create a single column table\n",
    "* Multiply and add numbers\n",
    "* List popular libreries for Data Science"
   ]
  },
  {
   "cell_type": "markdown",
   "id": "44ef52bc-7249-4951-a5e9-345437bdf297",
   "metadata": {},
   "source": [
    "Exercise 11 - Create a markdown cell to indicate the Author's name\n",
    "\n",
    "In this markdown cell markdown cell include the following text Author in H2 style heading. Include your name as regular text below the word Author.\n",
    "Take a screenshot of the markdown cell and name it as 11-authordetails.png (Images can be saved with either the .jpg or .png extension.)"
   ]
  },
  {
   "cell_type": "markdown",
   "id": "7d8343a8-a329-4605-b0d2-5428027bec1b",
   "metadata": {},
   "source": [
    "## Author\n",
    "Íñigo"
   ]
  },
  {
   "cell_type": "code",
   "execution_count": null,
   "id": "2ef79082-bb93-46e1-977b-bb7a0cb21a0c",
   "metadata": {},
   "outputs": [],
   "source": []
  }
 ],
 "metadata": {
  "kernelspec": {
   "display_name": "Python 3 (ipykernel)",
   "language": "python",
   "name": "python3"
  },
  "language_info": {
   "codemirror_mode": {
    "name": "ipython",
    "version": 3
   },
   "file_extension": ".py",
   "mimetype": "text/x-python",
   "name": "python",
   "nbconvert_exporter": "python",
   "pygments_lexer": "ipython3",
   "version": "3.11.5"
  }
 },
 "nbformat": 4,
 "nbformat_minor": 5
}
